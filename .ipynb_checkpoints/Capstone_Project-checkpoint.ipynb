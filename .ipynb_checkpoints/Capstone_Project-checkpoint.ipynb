{
 "cells": [
  {
   "cell_type": "markdown",
   "metadata": {},
   "source": [
    "# COURSERA CAPSTONE - ROAD ACCIDENTS IN THE UK\n",
    "*By: Rodolpho Pereira, Oct/2020*"
   ]
  },
  {
   "cell_type": "markdown",
   "metadata": {},
   "source": [
    "### This notebook will be used for the Coursera Capstone Project in Data Science Professional Certificate."
   ]
  },
  {
   "cell_type": "code",
   "execution_count": 243,
   "metadata": {},
   "outputs": [],
   "source": [
    "import pandas as pd\n",
    "import numpy as np\n",
    "import warnings\n",
    "warnings.filterwarnings(\"ignore\")"
   ]
  },
  {
   "cell_type": "code",
   "execution_count": 244,
   "metadata": {},
   "outputs": [
    {
     "name": "stdout",
     "output_type": "stream",
     "text": [
      "Hello Capstone Project Course!\n"
     ]
    }
   ],
   "source": [
    "print(\"Hello Capstone Project Course!\")"
   ]
  },
  {
   "cell_type": "markdown",
   "metadata": {},
   "source": [
    "# Table of Contents\n",
    "\n",
    "<ul>\n",
    "    <a href=\"#1.-INTRODUCTION\">1. INTRODUCTION </a>  \n",
    "    <ul>\n",
    "        <a href=\"#1.1-About-the-Data\">1.1 About the Data </a>  \n",
    "    </ul>\n",
    "<a href=\"#2.-DATA-PREPARATION\">2. DATA PREPARATION </a>  \n",
    "    <ul>\n",
    "        <a href=\"#2.1-Extracting-Data\">2.1 Extracting Data </a><br>  \n",
    "        <a href=\"#2.2-Cleaning-Data\">2.2 Cleaning Data </a><br>  \n",
    "        <ul>\n",
    "            <a href=\"#2.2.1-Dropping-Features\">2.2.1 Dropping Features </a><br>\n",
    "            <a href=\"#2.2.2-Merging-the-Dataframes\">2.2.2 Merging the Dataframes </a><br>\n",
    "            <a href=\"#2.2.3-Dropping-Rows:-Missing-Data\">2.2.3 Dropping Rows: Missing Data</a><br>\n",
    "        </ul>\n",
    "        <a href=\"#2.3-Evaluating-Data\">2.3 Evaluating Data</a><br>\n",
    "        <a href=\"#2.4-Pre-Processing-Data\">2.4 Pre-Processing Data</a><br>\n",
    "    </ul>\n",
    "    <a href=\"#3.-MODELLING\">3. MODELLING </a>"
   ]
  },
  {
   "cell_type": "markdown",
   "metadata": {},
   "source": [
    "# 1. INTRODUCTION\n",
    "*Back to <a href=\"#Table-of-Contents\">Table of Contents</a>.*\n",
    "\n",
    "This analysis will evaluate two datasets from road accidents in the UK, pulling data from 2005 to 2016. The objective is to find important correlations to predict road accidents severity. These correlations can be used to drive government campaigns toward a safer traffic behaviour."
   ]
  },
  {
   "cell_type": "markdown",
   "metadata": {},
   "source": [
    "## 1.1 About the Data\n",
    "\n",
    "The first dataset, [Accident_Information.csv](https://www.kaggle.com/tsiaras/uk-road-safety-accidents-and-vehicles?select=Accident_Information.csv), contains information about external conditions that can influence the frequency and severity of the accidents.\n",
    "\n",
    "The second dataset, [Vehicle_Information.csv](https://www.kaggle.com/tsiaras/uk-road-safety-accidents-and-vehicles?select=Vehicle_Information.csv), contains information about the vehicles and drivers involved in the accidents.\n",
    "\n",
    "The datasets are linked by the Accidents_Index column."
   ]
  },
  {
   "cell_type": "markdown",
   "metadata": {},
   "source": [
    "# 2. DATA PREPARATION\n",
    "*Back to <a href=\"#Table-of-Contents\">Table of Contents</a>.*\n",
    "\n",
    "## 2.1 Extracting the Data\n",
    "\n",
    "The Accidents_Information.csv dataset is loaded into the dataframe `accidents`.\n",
    "The Vehicle_Information.csv dataset is loaded into the dataframe `vehicles`."
   ]
  },
  {
   "cell_type": "code",
   "execution_count": 245,
   "metadata": {},
   "outputs": [],
   "source": [
    "accidents = pd.read_csv(r'C:\\Users\\rodol\\Documents\\Data Science\\9. Applied Data Science Capstone\\Data Sets\\Accident_Information.csv')\n",
    "vehicles = pd.read_csv(r'C:\\Users\\rodol\\Documents\\Data Science\\9. Applied Data Science Capstone\\Data Sets\\Vehicle_Information.csv', encoding='ISO-8859-1')"
   ]
  },
  {
   "cell_type": "markdown",
   "metadata": {},
   "source": [
    "Let's check the number of records (Index) and the number of columns (Features) available in each dataset:"
   ]
  },
  {
   "cell_type": "code",
   "execution_count": 246,
   "metadata": {},
   "outputs": [
    {
     "name": "stdout",
     "output_type": "stream",
     "text": [
      "Accidents Records: 2047256 \n",
      "Accidents Columns: 34\n",
      "Vehicle Records: 2177205 \n",
      "Vehicle Columns: 24\n"
     ]
    }
   ],
   "source": [
    "print('Accidents Records:', accidents.shape[0], '\\nAccidents Columns:', accidents.shape[1])\n",
    "print('Vehicle Records:', vehicles.shape[0], '\\nVehicle Columns:', vehicles.shape[1])"
   ]
  },
  {
   "cell_type": "markdown",
   "metadata": {},
   "source": [
    "## 2.2 Cleaning Data\n",
    "*Back to <a href=\"#Table-of-Contents\">Table of Contents</a>.*\n",
    "### 2.2.1 Dropping Features\n",
    "Now, we can look into the features and their types, and decide which should be dropped out of the dataset (i.e. basic information that likely will not serve as good predictors for accidents severity)."
   ]
  },
  {
   "cell_type": "code",
   "execution_count": 247,
   "metadata": {},
   "outputs": [
    {
     "name": "stdout",
     "output_type": "stream",
     "text": [
      "<class 'pandas.core.frame.DataFrame'>\n",
      "RangeIndex: 2047256 entries, 0 to 2047255\n",
      "Data columns (total 34 columns):\n",
      " #   Column                                       Dtype  \n",
      "---  ------                                       -----  \n",
      " 0   Accident_Index                               object \n",
      " 1   1st_Road_Class                               object \n",
      " 2   1st_Road_Number                              float64\n",
      " 3   2nd_Road_Class                               object \n",
      " 4   2nd_Road_Number                              float64\n",
      " 5   Accident_Severity                            object \n",
      " 6   Carriageway_Hazards                          object \n",
      " 7   Date                                         object \n",
      " 8   Day_of_Week                                  object \n",
      " 9   Did_Police_Officer_Attend_Scene_of_Accident  float64\n",
      " 10  Junction_Control                             object \n",
      " 11  Junction_Detail                              object \n",
      " 12  Latitude                                     float64\n",
      " 13  Light_Conditions                             object \n",
      " 14  Local_Authority_(District)                   object \n",
      " 15  Local_Authority_(Highway)                    object \n",
      " 16  Location_Easting_OSGR                        float64\n",
      " 17  Location_Northing_OSGR                       float64\n",
      " 18  Longitude                                    float64\n",
      " 19  LSOA_of_Accident_Location                    object \n",
      " 20  Number_of_Casualties                         int64  \n",
      " 21  Number_of_Vehicles                           int64  \n",
      " 22  Pedestrian_Crossing-Human_Control            float64\n",
      " 23  Pedestrian_Crossing-Physical_Facilities      float64\n",
      " 24  Police_Force                                 object \n",
      " 25  Road_Surface_Conditions                      object \n",
      " 26  Road_Type                                    object \n",
      " 27  Special_Conditions_at_Site                   object \n",
      " 28  Speed_limit                                  float64\n",
      " 29  Time                                         object \n",
      " 30  Urban_or_Rural_Area                          object \n",
      " 31  Weather_Conditions                           object \n",
      " 32  Year                                         int64  \n",
      " 33  InScotland                                   object \n",
      "dtypes: float64(10), int64(3), object(21)\n",
      "memory usage: 531.1+ MB\n"
     ]
    }
   ],
   "source": [
    "accidents.info()"
   ]
  },
  {
   "cell_type": "markdown",
   "metadata": {},
   "source": [
    "By simple evaluation of the description of the features, it gets clear which ones can be dropped out of the `accidents` dataframe:  \n",
    "**1st_Road_Class | 1st_Road_Number | 2nd_Road_Class | 2nd_Road_Number | Did_Police_Officer_Attend_Scene_of_Accident | Latitude | Local_Authority_(District) | Local_Authority_(Highway) | Location_Easting_OSGR | Location_Northing_OSGR | Longitude | LSOA_of_Accident_Location | InScotland**"
   ]
  },
  {
   "cell_type": "code",
   "execution_count": 248,
   "metadata": {},
   "outputs": [],
   "source": [
    "accidents.drop(columns=['1st_Road_Class', '1st_Road_Number', '2nd_Road_Class', '2nd_Road_Number', \\\n",
    "                        'Did_Police_Officer_Attend_Scene_of_Accident', 'Latitude', 'Local_Authority_(District)', \\\n",
    "                        'Local_Authority_(Highway)', 'Location_Easting_OSGR', 'Location_Northing_OSGR', 'Longitude', \\\n",
    "                        'LSOA_of_Accident_Location', 'InScotland'\n",
    "                       ], inplace=True)"
   ]
  },
  {
   "cell_type": "markdown",
   "metadata": {},
   "source": [
    "Checking the features from the `vehicles` dataframe to select which ones can be dropped:"
   ]
  },
  {
   "cell_type": "code",
   "execution_count": 249,
   "metadata": {},
   "outputs": [
    {
     "name": "stdout",
     "output_type": "stream",
     "text": [
      "<class 'pandas.core.frame.DataFrame'>\n",
      "RangeIndex: 2177205 entries, 0 to 2177204\n",
      "Data columns (total 24 columns):\n",
      " #   Column                            Dtype  \n",
      "---  ------                            -----  \n",
      " 0   Accident_Index                    object \n",
      " 1   Age_Band_of_Driver                object \n",
      " 2   Age_of_Vehicle                    float64\n",
      " 3   Driver_Home_Area_Type             object \n",
      " 4   Driver_IMD_Decile                 float64\n",
      " 5   Engine_Capacity_.CC.              float64\n",
      " 6   Hit_Object_in_Carriageway         object \n",
      " 7   Hit_Object_off_Carriageway        object \n",
      " 8   Journey_Purpose_of_Driver         object \n",
      " 9   Junction_Location                 object \n",
      " 10  make                              object \n",
      " 11  model                             object \n",
      " 12  Propulsion_Code                   object \n",
      " 13  Sex_of_Driver                     object \n",
      " 14  Skidding_and_Overturning          object \n",
      " 15  Towing_and_Articulation           object \n",
      " 16  Vehicle_Leaving_Carriageway       object \n",
      " 17  Vehicle_Location.Restricted_Lane  float64\n",
      " 18  Vehicle_Manoeuvre                 object \n",
      " 19  Vehicle_Reference                 int64  \n",
      " 20  Vehicle_Type                      object \n",
      " 21  Was_Vehicle_Left_Hand_Drive       object \n",
      " 22  X1st_Point_of_Impact              object \n",
      " 23  Year                              int64  \n",
      "dtypes: float64(4), int64(2), object(18)\n",
      "memory usage: 398.7+ MB\n"
     ]
    }
   ],
   "source": [
    "vehicles.info()"
   ]
  },
  {
   "cell_type": "markdown",
   "metadata": {},
   "source": [
    "The same analysis applied to the `vehicles` dataframe leads to remove the following features:  \n",
    "**make | model | Propulsion_Code**"
   ]
  },
  {
   "cell_type": "code",
   "execution_count": 250,
   "metadata": {},
   "outputs": [],
   "source": [
    "vehicles.drop(columns=['make', 'model', 'Propulsion_Code'], inplace=True)"
   ]
  },
  {
   "cell_type": "markdown",
   "metadata": {},
   "source": [
    "The `Accident_Severity` is the variable aimed to be predicted (target or dependable variable).\n",
    "\n",
    "It is not clear if the remaining features can be good predictors of accident severity, so every feature is explored to evaluate the types and count of data in each one, to determine if it should be dropped or kept in the dataframe.\n",
    "\n",
    "**IF THE READER PREFER TO JUMP THIS EVALUATION, <a href=\"#2.3-Merging-the-Dataframes\">CLICK HERE </a>.**\n",
    "\n",
    "To avoid a huge analysis, this notebook will only present the `value_counts` for the features that will be dropped, in order to justify that. If the feature seems promising for the analysis, it will be kept but the `value_counts` will not be presented."
   ]
  },
  {
   "cell_type": "code",
   "execution_count": 251,
   "metadata": {},
   "outputs": [
    {
     "data": {
      "text/plain": [
       "None                                               2007807\n",
       "Other object on road                                 16111\n",
       "Any animal in carriageway (except ridden horse)      10416\n",
       "Pedestrian in carriageway - not injured               4684\n",
       "Previous accident                                     3105\n",
       "Data missing or out of range                          2746\n",
       "Vehicle load on road                                  2387\n",
       "Name: Carriageway_Hazards, dtype: int64"
      ]
     },
     "execution_count": 251,
     "metadata": {},
     "output_type": "execute_result"
    }
   ],
   "source": [
    "accidents['Carriageway_Hazards'].value_counts(dropna=False)"
   ]
  },
  {
   "cell_type": "markdown",
   "metadata": {},
   "source": [
    "The vast majority of the accidents fall under \"None\" for the feature `Carriageway_Hazards`. The rest of the values could be investigated to find if they correlate to the `Accident_Severity`. Since the main objective is to generate a Machine Learning model that takes into account several features, it's decided to drop the feature."
   ]
  },
  {
   "cell_type": "code",
   "execution_count": 252,
   "metadata": {},
   "outputs": [],
   "source": [
    "accidents.drop(columns=['Carriageway_Hazards'], inplace=True)"
   ]
  },
  {
   "cell_type": "code",
   "execution_count": 253,
   "metadata": {},
   "outputs": [
    {
     "data": {
      "text/plain": [
       "Give way or uncontrolled               0.482750\n",
       "Data missing or out of range           0.368450\n",
       "Auto traffic signal                    0.103228\n",
       "Not at junction or within 20 metres    0.037760\n",
       "Stop sign                              0.006024\n",
       "Authorised person                      0.001788\n",
       "Name: Junction_Control, dtype: float64"
      ]
     },
     "execution_count": 253,
     "metadata": {},
     "output_type": "execute_result"
    }
   ],
   "source": [
    "accidents['Junction_Control'].value_counts(normalize=True, dropna=False)"
   ]
  },
  {
   "cell_type": "markdown",
   "metadata": {},
   "source": [
    "For the `Junction_Control` feature, the value \"Data missing or out of range\" corresponds to ~37% of the data. So this feature also will be removed."
   ]
  },
  {
   "cell_type": "code",
   "execution_count": 254,
   "metadata": {},
   "outputs": [],
   "source": [
    "accidents.drop(columns=['Junction_Control'], inplace=True)"
   ]
  },
  {
   "cell_type": "code",
   "execution_count": 255,
   "metadata": {},
   "outputs": [
    {
     "data": {
      "text/plain": [
       "1     1576667\n",
       "2      324486\n",
       "3       92664\n",
       "4       33337\n",
       "5       12306\n",
       "6        4575\n",
       "7        1567\n",
       "8         674\n",
       "9         329\n",
       "10        190\n",
       "11        114\n",
       "12         65\n",
       "13         50\n",
       "14         37\n",
       "15         25\n",
       "16         22\n",
       "17         20\n",
       "19         15\n",
       "18         12\n",
       "22         11\n",
       "21         11\n",
       "26          8\n",
       "27          6\n",
       "29          6\n",
       "24          5\n",
       "23          5\n",
       "36          4\n",
       "25          4\n",
       "42          4\n",
       "20          4\n",
       "38          2\n",
       "51          2\n",
       "45          2\n",
       "43          2\n",
       "40          2\n",
       "41          2\n",
       "35          2\n",
       "34          2\n",
       "33          2\n",
       "87          2\n",
       "28          2\n",
       "58          1\n",
       "70          1\n",
       "68          1\n",
       "63          1\n",
       "62          1\n",
       "32          1\n",
       "54          1\n",
       "48          1\n",
       "47          1\n",
       "46          1\n",
       "93          1\n",
       "Name: Number_of_Casualties, dtype: int64"
      ]
     },
     "execution_count": 255,
     "metadata": {},
     "output_type": "execute_result"
    }
   ],
   "source": [
    "accidents['Number_of_Casualties'].value_counts(dropna=False)"
   ]
  },
  {
   "cell_type": "markdown",
   "metadata": {},
   "source": [
    "The imbalanced data from the number of casualties makes this feature a complicated one to deal with. Also, casualties are a consequence of the accident, not a cause for it (mostly). Therefore, it is not a good feature to predict `Accident_Severity`."
   ]
  },
  {
   "cell_type": "code",
   "execution_count": 256,
   "metadata": {},
   "outputs": [],
   "source": [
    "accidents.drop(columns=['Number_of_Casualties'], inplace=True)"
   ]
  },
  {
   "cell_type": "code",
   "execution_count": 257,
   "metadata": {},
   "outputs": [
    {
     "data": {
      "text/plain": [
       "0.0    2031163\n",
       "2.0       8123\n",
       "1.0       5050\n",
       "NaN       2920\n",
       "Name: Pedestrian_Crossing-Human_Control, dtype: int64"
      ]
     },
     "execution_count": 257,
     "metadata": {},
     "output_type": "execute_result"
    }
   ],
   "source": [
    "accidents['Pedestrian_Crossing-Human_Control'].value_counts(dropna=False)"
   ]
  },
  {
   "cell_type": "markdown",
   "metadata": {},
   "source": [
    "Unbalanced data which it is not totally clear that can affect accident severity is removed."
   ]
  },
  {
   "cell_type": "code",
   "execution_count": 258,
   "metadata": {},
   "outputs": [],
   "source": [
    "accidents.drop(columns=['Pedestrian_Crossing-Human_Control'], inplace=True)"
   ]
  },
  {
   "cell_type": "code",
   "execution_count": 259,
   "metadata": {},
   "outputs": [
    {
     "data": {
      "text/plain": [
       "0.0    1695605\n",
       "5.0     138133\n",
       "4.0     109447\n",
       "1.0      55785\n",
       "8.0      39135\n",
       "7.0       5591\n",
       "NaN       3560\n",
       "Name: Pedestrian_Crossing-Physical_Facilities, dtype: int64"
      ]
     },
     "execution_count": 259,
     "metadata": {},
     "output_type": "execute_result"
    }
   ],
   "source": [
    "accidents['Pedestrian_Crossing-Physical_Facilities'].value_counts(dropna=False)"
   ]
  },
  {
   "cell_type": "markdown",
   "metadata": {},
   "source": [
    "Again, imbalanced data with no clear relation."
   ]
  },
  {
   "cell_type": "code",
   "execution_count": 260,
   "metadata": {},
   "outputs": [],
   "source": [
    "accidents.drop(columns=['Pedestrian_Crossing-Physical_Facilities'], inplace=True)"
   ]
  },
  {
   "cell_type": "markdown",
   "metadata": {},
   "source": [
    "The `Police_Force` feature returns which police was involved, so no relation to `Accident_Severity`."
   ]
  },
  {
   "cell_type": "code",
   "execution_count": 261,
   "metadata": {},
   "outputs": [],
   "source": [
    "accidents.drop(columns=['Police_Force'], inplace=True)"
   ]
  },
  {
   "cell_type": "markdown",
   "metadata": {},
   "source": [
    "The features `Number_of_Vehicles` and `Road_Type` have imbalanced values, but can have a good correlation with the `Accident_Severity`. This data shall be treated to deal with the imbalanced data.\n",
    "\n",
    "The feature `Special_Conditions_at_Site` will have a separated analysis out of curiosity. The \"None\" results will be dropped, but several values will remain to understand if some special conditions can contribute to an accident severity.\n",
    "\n",
    "This feature will be separated into a new dataframe for further analysis."
   ]
  },
  {
   "cell_type": "code",
   "execution_count": 262,
   "metadata": {},
   "outputs": [
    {
     "data": {
      "text/html": [
       "<div>\n",
       "<style scoped>\n",
       "    .dataframe tbody tr th:only-of-type {\n",
       "        vertical-align: middle;\n",
       "    }\n",
       "\n",
       "    .dataframe tbody tr th {\n",
       "        vertical-align: top;\n",
       "    }\n",
       "\n",
       "    .dataframe thead th {\n",
       "        text-align: right;\n",
       "    }\n",
       "</style>\n",
       "<table border=\"1\" class=\"dataframe\">\n",
       "  <thead>\n",
       "    <tr style=\"text-align: right;\">\n",
       "      <th></th>\n",
       "      <th>Accident_Severity</th>\n",
       "      <th>Special_Conditions_at_Site</th>\n",
       "    </tr>\n",
       "  </thead>\n",
       "  <tbody>\n",
       "    <tr>\n",
       "      <th>0</th>\n",
       "      <td>Serious</td>\n",
       "      <td>None</td>\n",
       "    </tr>\n",
       "    <tr>\n",
       "      <th>1</th>\n",
       "      <td>Slight</td>\n",
       "      <td>None</td>\n",
       "    </tr>\n",
       "    <tr>\n",
       "      <th>2</th>\n",
       "      <td>Slight</td>\n",
       "      <td>None</td>\n",
       "    </tr>\n",
       "    <tr>\n",
       "      <th>3</th>\n",
       "      <td>Slight</td>\n",
       "      <td>None</td>\n",
       "    </tr>\n",
       "    <tr>\n",
       "      <th>4</th>\n",
       "      <td>Slight</td>\n",
       "      <td>None</td>\n",
       "    </tr>\n",
       "  </tbody>\n",
       "</table>\n",
       "</div>"
      ],
      "text/plain": [
       "  Accident_Severity Special_Conditions_at_Site\n",
       "0           Serious                       None\n",
       "1            Slight                       None\n",
       "2            Slight                       None\n",
       "3            Slight                       None\n",
       "4            Slight                       None"
      ]
     },
     "execution_count": 262,
     "metadata": {},
     "output_type": "execute_result"
    }
   ],
   "source": [
    "special_conditions = accidents[['Accident_Severity', 'Special_Conditions_at_Site']]\n",
    "special_conditions.head(5)"
   ]
  },
  {
   "cell_type": "code",
   "execution_count": 263,
   "metadata": {},
   "outputs": [],
   "source": [
    "accidents.drop(columns=['Special_Conditions_at_Site'], inplace=True)"
   ]
  },
  {
   "cell_type": "markdown",
   "metadata": {},
   "source": [
    "Besides the dropped ones (and the `Special_Conditions_at_Site`), all the remaining features are considered as potential predictors for the `Accident_Severity`. These will be considered in the analysis.\n",
    "\n",
    "The same evaluation is performed for the `vehicles` dataframe."
   ]
  },
  {
   "cell_type": "code",
   "execution_count": 264,
   "metadata": {},
   "outputs": [
    {
     "data": {
      "text/plain": [
       "NaN      358149\n",
       "1.0      180333\n",
       "2.0      161072\n",
       "3.0      148665\n",
       "4.0      144493\n",
       "          ...  \n",
       "104.0         1\n",
       "84.0          1\n",
       "77.0          1\n",
       "111.0         1\n",
       "105.0         1\n",
       "Name: Age_of_Vehicle, Length: 89, dtype: int64"
      ]
     },
     "execution_count": 264,
     "metadata": {},
     "output_type": "execute_result"
    }
   ],
   "source": [
    "vehicles['Age_of_Vehicle'].value_counts(dropna=False)"
   ]
  },
  {
   "cell_type": "markdown",
   "metadata": {},
   "source": [
    "The `Age_of_Vehicle` feature will not be considered, since the vast majority of information fall under `NaN`, and the data seems high imbalanced."
   ]
  },
  {
   "cell_type": "code",
   "execution_count": 265,
   "metadata": {},
   "outputs": [],
   "source": [
    "vehicles.drop(columns=['Age_of_Vehicle'], inplace=True)"
   ]
  },
  {
   "cell_type": "code",
   "execution_count": 266,
   "metadata": {},
   "outputs": [
    {
     "data": {
      "text/plain": [
       "Urban area                      0.659836\n",
       "Data missing or out of range    0.153566\n",
       "Rural                           0.106724\n",
       "Small town                      0.079874\n",
       "Name: Driver_Home_Area_Type, dtype: float64"
      ]
     },
     "execution_count": 266,
     "metadata": {},
     "output_type": "execute_result"
    }
   ],
   "source": [
    "vehicles['Driver_Home_Area_Type'].value_counts(normalize=True, dropna=False)"
   ]
  },
  {
   "cell_type": "markdown",
   "metadata": {},
   "source": [
    "15% of the data is missing or out of range. Although the dataset wouldn't be so affected by removing these values, the `Driver_Home_Area_Type` does not appear to be a good predictor of accident severity, and if used in a campaign could be seen as prejudicious."
   ]
  },
  {
   "cell_type": "code",
   "execution_count": 267,
   "metadata": {},
   "outputs": [],
   "source": [
    "vehicles.drop(columns=['Driver_Home_Area_Type'], inplace=True)"
   ]
  },
  {
   "cell_type": "code",
   "execution_count": 268,
   "metadata": {},
   "outputs": [
    {
     "data": {
      "text/plain": [
       "NaN     0.337502\n",
       "3.0     0.069528\n",
       "4.0     0.069386\n",
       "2.0     0.069385\n",
       "5.0     0.069064\n",
       "6.0     0.068598\n",
       "7.0     0.066406\n",
       "1.0     0.065193\n",
       "8.0     0.064568\n",
       "9.0     0.062834\n",
       "10.0    0.057536\n",
       "Name: Driver_IMD_Decile, dtype: float64"
      ]
     },
     "execution_count": 268,
     "metadata": {},
     "output_type": "execute_result"
    }
   ],
   "source": [
    "vehicles['Driver_IMD_Decile'].value_counts(normalize=True, dropna=False)"
   ]
  },
  {
   "cell_type": "markdown",
   "metadata": {},
   "source": [
    "Also, this information doesn't seem to be relevant for predicting accident severity. The lack of description from a metadata section supports the decision to eliminate this feature."
   ]
  },
  {
   "cell_type": "code",
   "execution_count": 269,
   "metadata": {},
   "outputs": [],
   "source": [
    "vehicles.drop(columns=['Driver_IMD_Decile'], inplace=True)"
   ]
  },
  {
   "cell_type": "code",
   "execution_count": 270,
   "metadata": {},
   "outputs": [
    {
     "data": {
      "text/plain": [
       "NaN       265861\n",
       "1598.0    106974\n",
       "1997.0     58426\n",
       "1998.0     57105\n",
       "1242.0     55284\n",
       "           ...  \n",
       "3974.0         1\n",
       "8670.0         1\n",
       "3966.0         1\n",
       "3961.0         1\n",
       "1268.0         1\n",
       "Name: Engine_Capacity_.CC., Length: 2557, dtype: int64"
      ]
     },
     "execution_count": 270,
     "metadata": {},
     "output_type": "execute_result"
    }
   ],
   "source": [
    "vehicles['Engine_Capacity_.CC.'].value_counts(dropna=False)"
   ]
  },
  {
   "cell_type": "markdown",
   "metadata": {},
   "source": [
    "Again, high imbalanced data that doesn't seem to contribute to the analysis."
   ]
  },
  {
   "cell_type": "code",
   "execution_count": 271,
   "metadata": {},
   "outputs": [],
   "source": [
    "vehicles.drop(columns=['Engine_Capacity_.CC.'], inplace=True)"
   ]
  },
  {
   "cell_type": "code",
   "execution_count": 272,
   "metadata": {},
   "outputs": [
    {
     "data": {
      "text/plain": [
       "None                                2087824\n",
       "Kerb                                  34354\n",
       "Parked vehicle                        27401\n",
       "Bollard or refuge                      9981\n",
       "Other object                           5715\n",
       "Any animal (except ridden horse)       2683\n",
       "Central island of roundabout           2190\n",
       "Open door of vehicle                   1919\n",
       "Bridge (side)                          1441\n",
       "Data missing or out of range           1302\n",
       "Previous accident                      1023\n",
       "Road works                              957\n",
       "Bridge (roof)                           415\n",
       "Name: Hit_Object_in_Carriageway, dtype: int64"
      ]
     },
     "execution_count": 272,
     "metadata": {},
     "output_type": "execute_result"
    }
   ],
   "source": [
    "vehicles['Hit_Object_in_Carriageway'].value_counts(dropna=False)"
   ]
  },
  {
   "cell_type": "markdown",
   "metadata": {},
   "source": [
    "Although the majority of data falls under \"None\", the rest of the data will be evaluated separately to determine if the `Hit_Object_in_Carriageway` can be correlated to the `Accident_Severity`."
   ]
  },
  {
   "cell_type": "code",
   "execution_count": 273,
   "metadata": {},
   "outputs": [
    {
     "data": {
      "text/html": [
       "<div>\n",
       "<style scoped>\n",
       "    .dataframe tbody tr th:only-of-type {\n",
       "        vertical-align: middle;\n",
       "    }\n",
       "\n",
       "    .dataframe tbody tr th {\n",
       "        vertical-align: top;\n",
       "    }\n",
       "\n",
       "    .dataframe thead th {\n",
       "        text-align: right;\n",
       "    }\n",
       "</style>\n",
       "<table border=\"1\" class=\"dataframe\">\n",
       "  <thead>\n",
       "    <tr style=\"text-align: right;\">\n",
       "      <th></th>\n",
       "      <th>Accident_Index</th>\n",
       "      <th>Hit_Object_in_Carriageway</th>\n",
       "    </tr>\n",
       "  </thead>\n",
       "  <tbody>\n",
       "    <tr>\n",
       "      <th>0</th>\n",
       "      <td>200401BS00001</td>\n",
       "      <td>None</td>\n",
       "    </tr>\n",
       "    <tr>\n",
       "      <th>1</th>\n",
       "      <td>200401BS00002</td>\n",
       "      <td>None</td>\n",
       "    </tr>\n",
       "    <tr>\n",
       "      <th>2</th>\n",
       "      <td>200401BS00003</td>\n",
       "      <td>None</td>\n",
       "    </tr>\n",
       "    <tr>\n",
       "      <th>3</th>\n",
       "      <td>200401BS00003</td>\n",
       "      <td>None</td>\n",
       "    </tr>\n",
       "    <tr>\n",
       "      <th>4</th>\n",
       "      <td>200401BS00004</td>\n",
       "      <td>None</td>\n",
       "    </tr>\n",
       "  </tbody>\n",
       "</table>\n",
       "</div>"
      ],
      "text/plain": [
       "  Accident_Index Hit_Object_in_Carriageway\n",
       "0  200401BS00001                      None\n",
       "1  200401BS00002                      None\n",
       "2  200401BS00003                      None\n",
       "3  200401BS00003                      None\n",
       "4  200401BS00004                      None"
      ]
     },
     "execution_count": 273,
     "metadata": {},
     "output_type": "execute_result"
    }
   ],
   "source": [
    "HOinC = vehicles[['Accident_Index', 'Hit_Object_in_Carriageway']]\n",
    "HOinC.head()"
   ]
  },
  {
   "cell_type": "code",
   "execution_count": 274,
   "metadata": {
    "scrolled": true
   },
   "outputs": [],
   "source": [
    "vehicles.drop(columns=['Hit_Object_in_Carriageway'], inplace=True)"
   ]
  },
  {
   "cell_type": "code",
   "execution_count": 275,
   "metadata": {},
   "outputs": [
    {
     "data": {
      "text/plain": [
       "None                             1989741\n",
       "Other permanent object             56640\n",
       "Tree                               29161\n",
       "Entered ditch                      18301\n",
       "Road sign or traffic signal        17394\n",
       "Central crash barrier              16538\n",
       "Near/Offside crash barrier         15835\n",
       "Lamp post                          15293\n",
       "Wall or fence                      10423\n",
       "Telegraph or electricity pole       5828\n",
       "Bus stop or bus shelter             1300\n",
       "Data missing or out of range         533\n",
       "Submerged in water                   218\n",
       "Name: Hit_Object_off_Carriageway, dtype: int64"
      ]
     },
     "execution_count": 275,
     "metadata": {},
     "output_type": "execute_result"
    }
   ],
   "source": [
    "vehicles['Hit_Object_off_Carriageway'].value_counts(dropna=False)"
   ]
  },
  {
   "cell_type": "markdown",
   "metadata": {},
   "source": [
    "The same applies to the feature `Hit_Object_in_Carriageway`."
   ]
  },
  {
   "cell_type": "code",
   "execution_count": 276,
   "metadata": {},
   "outputs": [
    {
     "data": {
      "text/html": [
       "<div>\n",
       "<style scoped>\n",
       "    .dataframe tbody tr th:only-of-type {\n",
       "        vertical-align: middle;\n",
       "    }\n",
       "\n",
       "    .dataframe tbody tr th {\n",
       "        vertical-align: top;\n",
       "    }\n",
       "\n",
       "    .dataframe thead th {\n",
       "        text-align: right;\n",
       "    }\n",
       "</style>\n",
       "<table border=\"1\" class=\"dataframe\">\n",
       "  <thead>\n",
       "    <tr style=\"text-align: right;\">\n",
       "      <th></th>\n",
       "      <th>Accident_Index</th>\n",
       "      <th>Hit_Object_in_Carriageway</th>\n",
       "      <th>Hit_Object_off_Carriageway</th>\n",
       "    </tr>\n",
       "  </thead>\n",
       "  <tbody>\n",
       "    <tr>\n",
       "      <th>0</th>\n",
       "      <td>200401BS00001</td>\n",
       "      <td>None</td>\n",
       "      <td>None</td>\n",
       "    </tr>\n",
       "    <tr>\n",
       "      <th>1</th>\n",
       "      <td>200401BS00002</td>\n",
       "      <td>None</td>\n",
       "      <td>None</td>\n",
       "    </tr>\n",
       "    <tr>\n",
       "      <th>2</th>\n",
       "      <td>200401BS00003</td>\n",
       "      <td>None</td>\n",
       "      <td>None</td>\n",
       "    </tr>\n",
       "    <tr>\n",
       "      <th>3</th>\n",
       "      <td>200401BS00003</td>\n",
       "      <td>None</td>\n",
       "      <td>None</td>\n",
       "    </tr>\n",
       "    <tr>\n",
       "      <th>4</th>\n",
       "      <td>200401BS00004</td>\n",
       "      <td>None</td>\n",
       "      <td>None</td>\n",
       "    </tr>\n",
       "  </tbody>\n",
       "</table>\n",
       "</div>"
      ],
      "text/plain": [
       "  Accident_Index Hit_Object_in_Carriageway Hit_Object_off_Carriageway\n",
       "0  200401BS00001                      None                       None\n",
       "1  200401BS00002                      None                       None\n",
       "2  200401BS00003                      None                       None\n",
       "3  200401BS00003                      None                       None\n",
       "4  200401BS00004                      None                       None"
      ]
     },
     "execution_count": 276,
     "metadata": {},
     "output_type": "execute_result"
    }
   ],
   "source": [
    "HOinC['Hit_Object_off_Carriageway'] = vehicles['Hit_Object_off_Carriageway']\n",
    "hit_objects = HOinC\n",
    "hit_objects.head()"
   ]
  },
  {
   "cell_type": "code",
   "execution_count": 277,
   "metadata": {},
   "outputs": [],
   "source": [
    "vehicles.drop(columns=['Hit_Object_off_Carriageway'], inplace=True)"
   ]
  },
  {
   "cell_type": "code",
   "execution_count": 278,
   "metadata": {},
   "outputs": [
    {
     "data": {
      "text/plain": [
       "Not known                       834626\n",
       "Other/Not known (2005-10)       555726\n",
       "Journey as part of work         391713\n",
       "Commuting to/from work          202525\n",
       "Data missing or out of range    133560\n",
       "Other                            32965\n",
       "Taking pupil to/from school      21792\n",
       "Pupil riding to/from school       4298\n",
       "Name: Journey_Purpose_of_Driver, dtype: int64"
      ]
     },
     "execution_count": 278,
     "metadata": {},
     "output_type": "execute_result"
    }
   ],
   "source": [
    "vehicles['Journey_Purpose_of_Driver'].value_counts(dropna=False)"
   ]
  },
  {
   "cell_type": "markdown",
   "metadata": {},
   "source": [
    "The majority of data doesn't add information, so the feature will be removed."
   ]
  },
  {
   "cell_type": "code",
   "execution_count": 279,
   "metadata": {},
   "outputs": [],
   "source": [
    "vehicles.drop(columns=['Journey_Purpose_of_Driver'], inplace=True)"
   ]
  },
  {
   "cell_type": "code",
   "execution_count": 280,
   "metadata": {},
   "outputs": [
    {
     "data": {
      "text/plain": [
       "None                            1898208\n",
       "Skidded                          199825\n",
       "Skidded and overturned            42339\n",
       "Overturned                        34100\n",
       "Jackknifed                         1127\n",
       "Data missing or out of range       1015\n",
       "Jackknifed and overturned           591\n",
       "Name: Skidding_and_Overturning, dtype: int64"
      ]
     },
     "execution_count": 280,
     "metadata": {},
     "output_type": "execute_result"
    }
   ],
   "source": [
    "vehicles['Skidding_and_Overturning'].value_counts(dropna=False)"
   ]
  },
  {
   "cell_type": "code",
   "execution_count": 281,
   "metadata": {},
   "outputs": [
    {
     "data": {
      "text/html": [
       "<div>\n",
       "<style scoped>\n",
       "    .dataframe tbody tr th:only-of-type {\n",
       "        vertical-align: middle;\n",
       "    }\n",
       "\n",
       "    .dataframe tbody tr th {\n",
       "        vertical-align: top;\n",
       "    }\n",
       "\n",
       "    .dataframe thead th {\n",
       "        text-align: right;\n",
       "    }\n",
       "</style>\n",
       "<table border=\"1\" class=\"dataframe\">\n",
       "  <thead>\n",
       "    <tr style=\"text-align: right;\">\n",
       "      <th></th>\n",
       "      <th>Accident_Index</th>\n",
       "      <th>Hit_Object_in_Carriageway</th>\n",
       "      <th>Hit_Object_off_Carriageway</th>\n",
       "      <th>Skidding_and_Overturning</th>\n",
       "    </tr>\n",
       "  </thead>\n",
       "  <tbody>\n",
       "    <tr>\n",
       "      <th>0</th>\n",
       "      <td>200401BS00001</td>\n",
       "      <td>None</td>\n",
       "      <td>None</td>\n",
       "      <td>None</td>\n",
       "    </tr>\n",
       "    <tr>\n",
       "      <th>1</th>\n",
       "      <td>200401BS00002</td>\n",
       "      <td>None</td>\n",
       "      <td>None</td>\n",
       "      <td>None</td>\n",
       "    </tr>\n",
       "    <tr>\n",
       "      <th>2</th>\n",
       "      <td>200401BS00003</td>\n",
       "      <td>None</td>\n",
       "      <td>None</td>\n",
       "      <td>None</td>\n",
       "    </tr>\n",
       "    <tr>\n",
       "      <th>3</th>\n",
       "      <td>200401BS00003</td>\n",
       "      <td>None</td>\n",
       "      <td>None</td>\n",
       "      <td>None</td>\n",
       "    </tr>\n",
       "    <tr>\n",
       "      <th>4</th>\n",
       "      <td>200401BS00004</td>\n",
       "      <td>None</td>\n",
       "      <td>None</td>\n",
       "      <td>None</td>\n",
       "    </tr>\n",
       "  </tbody>\n",
       "</table>\n",
       "</div>"
      ],
      "text/plain": [
       "  Accident_Index Hit_Object_in_Carriageway Hit_Object_off_Carriageway  \\\n",
       "0  200401BS00001                      None                       None   \n",
       "1  200401BS00002                      None                       None   \n",
       "2  200401BS00003                      None                       None   \n",
       "3  200401BS00003                      None                       None   \n",
       "4  200401BS00004                      None                       None   \n",
       "\n",
       "  Skidding_and_Overturning  \n",
       "0                     None  \n",
       "1                     None  \n",
       "2                     None  \n",
       "3                     None  \n",
       "4                     None  "
      ]
     },
     "execution_count": 281,
     "metadata": {},
     "output_type": "execute_result"
    }
   ],
   "source": [
    "parallel_analysis = hit_objects\n",
    "parallel_analysis['Skidding_and_Overturning'] = vehicles['Skidding_and_Overturning']\n",
    "parallel_analysis.head()"
   ]
  },
  {
   "cell_type": "code",
   "execution_count": 282,
   "metadata": {},
   "outputs": [],
   "source": [
    "vehicles.drop(columns=['Skidding_and_Overturning'], inplace=True)"
   ]
  },
  {
   "cell_type": "code",
   "execution_count": 283,
   "metadata": {},
   "outputs": [
    {
     "data": {
      "text/plain": [
       "No tow/articulation             2136394\n",
       "Articulated vehicle               26930\n",
       "Single trailer                     8855\n",
       "Other tow                          2002\n",
       "Caravan                            1332\n",
       "Data missing or out of range       1176\n",
       "Double or multiple trailer          516\n",
       "Name: Towing_and_Articulation, dtype: int64"
      ]
     },
     "execution_count": 283,
     "metadata": {},
     "output_type": "execute_result"
    }
   ],
   "source": [
    "vehicles['Towing_and_Articulation'].value_counts(dropna=False)"
   ]
  },
  {
   "cell_type": "markdown",
   "metadata": {},
   "source": [
    "This information is not considered relevant for the prediction of accident severity."
   ]
  },
  {
   "cell_type": "code",
   "execution_count": 284,
   "metadata": {},
   "outputs": [],
   "source": [
    "vehicles.drop(columns=['Towing_and_Articulation'], inplace=True)"
   ]
  },
  {
   "cell_type": "code",
   "execution_count": 285,
   "metadata": {},
   "outputs": [
    {
     "data": {
      "text/plain": [
       "Did not leave carriageway                1922892\n",
       "Nearside                                  131169\n",
       "Offside                                    67104\n",
       "Nearside and rebounded                     17237\n",
       "Offside on to central reservation          10798\n",
       "Offside and rebounded                       8863\n",
       "Straight ahead at junction                  8096\n",
       "Offside on to centrl res + rebounded        7677\n",
       "Offside - crossed central reservation       2151\n",
       "Data missing or out of range                1218\n",
       "Name: Vehicle_Leaving_Carriageway, dtype: int64"
      ]
     },
     "execution_count": 285,
     "metadata": {},
     "output_type": "execute_result"
    }
   ],
   "source": [
    "vehicles['Vehicle_Leaving_Carriageway'].value_counts(dropna=False)"
   ]
  },
  {
   "cell_type": "markdown",
   "metadata": {},
   "source": [
    "This feature will be saved with the parallel_analysis for further investigation. It doesn't seem promising, but some information can be retrieved."
   ]
  },
  {
   "cell_type": "code",
   "execution_count": 286,
   "metadata": {},
   "outputs": [],
   "source": [
    "parallel_analysis['Vehicle_Leaving_Carriageway'] = vehicles['Vehicle_Leaving_Carriageway']"
   ]
  },
  {
   "cell_type": "code",
   "execution_count": 287,
   "metadata": {},
   "outputs": [],
   "source": [
    "vehicles.drop(columns=['Vehicle_Leaving_Carriageway'], inplace=True)"
   ]
  },
  {
   "cell_type": "code",
   "execution_count": 288,
   "metadata": {},
   "outputs": [
    {
     "data": {
      "text/plain": [
       "0.0    2135969\n",
       "9.0      14001\n",
       "2.0       9724\n",
       "6.0       5945\n",
       "8.0       2746\n",
       "4.0       2432\n",
       "3.0       1488\n",
       "NaN       1317\n",
       "7.0       1302\n",
       "5.0       1200\n",
       "1.0       1081\n",
       "Name: Vehicle_Location.Restricted_Lane, dtype: int64"
      ]
     },
     "execution_count": 288,
     "metadata": {},
     "output_type": "execute_result"
    }
   ],
   "source": [
    "vehicles['Vehicle_Location.Restricted_Lane'].value_counts(dropna=False)"
   ]
  },
  {
   "cell_type": "markdown",
   "metadata": {},
   "source": [
    "This feature doesn't make sense without metadata, so it will be dropped."
   ]
  },
  {
   "cell_type": "code",
   "execution_count": 289,
   "metadata": {},
   "outputs": [],
   "source": [
    "vehicles.drop(columns=['Vehicle_Location.Restricted_Lane'], inplace=True)"
   ]
  },
  {
   "cell_type": "code",
   "execution_count": 290,
   "metadata": {},
   "outputs": [
    {
     "data": {
      "text/plain": [
       "1     1202113\n",
       "2      809191\n",
       "3      125564\n",
       "4       28518\n",
       "5        7221\n",
       "       ...   \n",
       "39          1\n",
       "38          1\n",
       "37          1\n",
       "35          1\n",
       "91          1\n",
       "Name: Vehicle_Reference, Length: 63, dtype: int64"
      ]
     },
     "execution_count": 290,
     "metadata": {},
     "output_type": "execute_result"
    }
   ],
   "source": [
    "vehicles['Vehicle_Reference'].value_counts(dropna=False)"
   ]
  },
  {
   "cell_type": "markdown",
   "metadata": {},
   "source": [
    "Again, another value that have no significance without the metadata."
   ]
  },
  {
   "cell_type": "code",
   "execution_count": 291,
   "metadata": {},
   "outputs": [],
   "source": [
    "vehicles.drop(columns=['Vehicle_Reference'], inplace=True)"
   ]
  },
  {
   "cell_type": "code",
   "execution_count": 292,
   "metadata": {},
   "outputs": [
    {
     "data": {
      "text/plain": [
       "Car                                      1528628\n",
       "Van / Goods 3.5 tonnes mgw or under       117427\n",
       "109                                        82920\n",
       "Bus or coach (17 or more pass seats)       76757\n",
       "Motorcycle over 500cc                      71472\n",
       "Motorcycle 125cc and under                 61600\n",
       "Goods 7.5 tonnes mgw and over              55426\n",
       "Taxi/Private hire car                      43781\n",
       "Pedal cycle                                38904\n",
       "Motorcycle 50cc and under                  22415\n",
       "Motorcycle over 125cc and up to 500cc      20960\n",
       "Goods over 3.5t. and under 7.5t            18236\n",
       "Other vehicle                              13994\n",
       "106                                         7568\n",
       "Agricultural vehicle                        6018\n",
       "Minibus (8 - 16 passenger seats)            5900\n",
       "Goods vehicle - unknown weight              1876\n",
       "108                                         1334\n",
       "Motorcycle - unknown cc                      741\n",
       "Mobility scooter                             502\n",
       "Data missing or out of range                 401\n",
       "Ridden horse                                 224\n",
       "Electric motorcycle                           78\n",
       "Tram                                          43\n",
       "Name: Vehicle_Type, dtype: int64"
      ]
     },
     "execution_count": 292,
     "metadata": {},
     "output_type": "execute_result"
    }
   ],
   "source": [
    "vehicles['Vehicle_Type'].value_counts(dropna=False)"
   ]
  },
  {
   "cell_type": "markdown",
   "metadata": {},
   "source": [
    "This data seems promising for another analysis due to imbalance. It will be saved in the `parallel_analysis` dataframe."
   ]
  },
  {
   "cell_type": "code",
   "execution_count": 293,
   "metadata": {},
   "outputs": [],
   "source": [
    "parallel_analysis['Vehicle_Type'] = vehicles['Vehicle_Type']"
   ]
  },
  {
   "cell_type": "code",
   "execution_count": 294,
   "metadata": {},
   "outputs": [],
   "source": [
    "vehicles.drop(columns=['Vehicle_Type'], inplace=True)"
   ]
  },
  {
   "cell_type": "code",
   "execution_count": 295,
   "metadata": {},
   "outputs": [
    {
     "data": {
      "text/plain": [
       "No                              2045375\n",
       "Data missing or out of range     127943\n",
       "Yes                                3887\n",
       "Name: Was_Vehicle_Left_Hand_Drive, dtype: int64"
      ]
     },
     "execution_count": 295,
     "metadata": {},
     "output_type": "execute_result"
    }
   ],
   "source": [
    "vehicles['Was_Vehicle_Left_Hand_Drive'].value_counts(dropna=False)"
   ]
  },
  {
   "cell_type": "markdown",
   "metadata": {},
   "source": [
    "Again an information that seems interesting but should be held in `parallel_analysis`."
   ]
  },
  {
   "cell_type": "code",
   "execution_count": 296,
   "metadata": {},
   "outputs": [],
   "source": [
    "parallel_analysis['Was_Vehicle_Left_Hand_Drive'] = vehicles['Was_Vehicle_Left_Hand_Drive']\n",
    "vehicles.drop(columns=['Was_Vehicle_Left_Hand_Drive'], inplace=True)"
   ]
  },
  {
   "cell_type": "markdown",
   "metadata": {},
   "source": [
    "The `year`feature in the `vehicles`dataframe will be dropped, but it will be maitained in the `accidents`dataframe."
   ]
  },
  {
   "cell_type": "code",
   "execution_count": 297,
   "metadata": {},
   "outputs": [],
   "source": [
    "#vehicles.drop(columns=['Year'], inplace=True)"
   ]
  },
  {
   "cell_type": "markdown",
   "metadata": {},
   "source": [
    "### 2.2.2 Merging the Dataframes\n",
    "*Back to <a href=\"#Table-of-Contents\">Table of Contents</a>.*"
   ]
  },
  {
   "cell_type": "markdown",
   "metadata": {},
   "source": [
    "The final features for the `accidents`and `vehicles`dataframes after cleaning are shown below. The `accidents` dataframe was reduced from 34 to 14 features. The `vehicles` dataframe was reduced from 24 to 6 features."
   ]
  },
  {
   "cell_type": "code",
   "execution_count": 298,
   "metadata": {},
   "outputs": [
    {
     "name": "stdout",
     "output_type": "stream",
     "text": [
      "<class 'pandas.core.frame.DataFrame'>\n",
      "RangeIndex: 2047256 entries, 0 to 2047255\n",
      "Data columns (total 14 columns):\n",
      " #   Column                   Dtype  \n",
      "---  ------                   -----  \n",
      " 0   Accident_Index           object \n",
      " 1   Accident_Severity        object \n",
      " 2   Date                     object \n",
      " 3   Day_of_Week              object \n",
      " 4   Junction_Detail          object \n",
      " 5   Light_Conditions         object \n",
      " 6   Number_of_Vehicles       int64  \n",
      " 7   Road_Surface_Conditions  object \n",
      " 8   Road_Type                object \n",
      " 9   Speed_limit              float64\n",
      " 10  Time                     object \n",
      " 11  Urban_or_Rural_Area      object \n",
      " 12  Weather_Conditions       object \n",
      " 13  Year                     int64  \n",
      "dtypes: float64(1), int64(2), object(11)\n",
      "memory usage: 218.7+ MB\n"
     ]
    }
   ],
   "source": [
    "accidents.info()"
   ]
  },
  {
   "cell_type": "code",
   "execution_count": 299,
   "metadata": {},
   "outputs": [
    {
     "name": "stdout",
     "output_type": "stream",
     "text": [
      "<class 'pandas.core.frame.DataFrame'>\n",
      "RangeIndex: 2177205 entries, 0 to 2177204\n",
      "Data columns (total 7 columns):\n",
      " #   Column                Dtype \n",
      "---  ------                ----- \n",
      " 0   Accident_Index        object\n",
      " 1   Age_Band_of_Driver    object\n",
      " 2   Junction_Location     object\n",
      " 3   Sex_of_Driver         object\n",
      " 4   Vehicle_Manoeuvre     object\n",
      " 5   X1st_Point_of_Impact  object\n",
      " 6   Year                  int64 \n",
      "dtypes: int64(1), object(6)\n",
      "memory usage: 116.3+ MB\n"
     ]
    }
   ],
   "source": [
    "vehicles.info()"
   ]
  },
  {
   "cell_type": "markdown",
   "metadata": {},
   "source": [
    "It is identified that the `vehicles`dataframe contains dupllicated values for the `Accident_Index`. To avoid errors, the duplicated values will be removed. The same will be applied to the `accidents` for verification."
   ]
  },
  {
   "cell_type": "code",
   "execution_count": 300,
   "metadata": {},
   "outputs": [
    {
     "name": "stdout",
     "output_type": "stream",
     "text": [
      "accidents df before dropping duplicates:  (2047256, 14)\n",
      "accidents df after dropping duplicates:  (2047256, 14)\n",
      "vehicles df before dropping duplicates:  (2177205, 7)\n",
      "vehicles df after dropping duplicates:  (1488981, 7)\n"
     ]
    }
   ],
   "source": [
    "print('accidents df before dropping duplicates: ', accidents.shape)\n",
    "accidents.drop_duplicates(subset=['Accident_Index'], inplace=True)\n",
    "print('accidents df after dropping duplicates: ', accidents.shape)\n",
    "print('vehicles df before dropping duplicates: ', vehicles.shape)\n",
    "vehicles.drop_duplicates(subset=['Accident_Index'], inplace=True)\n",
    "print('vehicles df after dropping duplicates: ', vehicles.shape)"
   ]
  },
  {
   "cell_type": "markdown",
   "metadata": {},
   "source": [
    "To merge the two dataframes, first let's make the `Accident_Index` feature the dataframe index."
   ]
  },
  {
   "cell_type": "code",
   "execution_count": 301,
   "metadata": {},
   "outputs": [
    {
     "name": "stdout",
     "output_type": "stream",
     "text": [
      "(1389724, 20)\n"
     ]
    },
    {
     "data": {
      "text/html": [
       "<div>\n",
       "<style scoped>\n",
       "    .dataframe tbody tr th:only-of-type {\n",
       "        vertical-align: middle;\n",
       "    }\n",
       "\n",
       "    .dataframe tbody tr th {\n",
       "        vertical-align: top;\n",
       "    }\n",
       "\n",
       "    .dataframe thead th {\n",
       "        text-align: right;\n",
       "    }\n",
       "</style>\n",
       "<table border=\"1\" class=\"dataframe\">\n",
       "  <thead>\n",
       "    <tr style=\"text-align: right;\">\n",
       "      <th></th>\n",
       "      <th>Accident_Index</th>\n",
       "      <th>Accident_Severity</th>\n",
       "      <th>Date</th>\n",
       "      <th>Day_of_Week</th>\n",
       "      <th>Junction_Detail</th>\n",
       "      <th>Light_Conditions</th>\n",
       "      <th>Number_of_Vehicles</th>\n",
       "      <th>Road_Surface_Conditions</th>\n",
       "      <th>Road_Type</th>\n",
       "      <th>Speed_limit</th>\n",
       "      <th>Time</th>\n",
       "      <th>Urban_or_Rural_Area</th>\n",
       "      <th>Weather_Conditions</th>\n",
       "      <th>Year_x</th>\n",
       "      <th>Age_Band_of_Driver</th>\n",
       "      <th>Junction_Location</th>\n",
       "      <th>Sex_of_Driver</th>\n",
       "      <th>Vehicle_Manoeuvre</th>\n",
       "      <th>X1st_Point_of_Impact</th>\n",
       "      <th>Year_y</th>\n",
       "    </tr>\n",
       "  </thead>\n",
       "  <tbody>\n",
       "    <tr>\n",
       "      <th>0</th>\n",
       "      <td>200501BS00002</td>\n",
       "      <td>Slight</td>\n",
       "      <td>2005-01-05</td>\n",
       "      <td>Wednesday</td>\n",
       "      <td>Crossroads</td>\n",
       "      <td>Darkness - lights lit</td>\n",
       "      <td>1</td>\n",
       "      <td>Dry</td>\n",
       "      <td>Dual carriageway</td>\n",
       "      <td>30.0</td>\n",
       "      <td>17:36</td>\n",
       "      <td>Urban</td>\n",
       "      <td>Fine no high winds</td>\n",
       "      <td>2005</td>\n",
       "      <td>36 - 45</td>\n",
       "      <td>Leaving roundabout</td>\n",
       "      <td>Male</td>\n",
       "      <td>Slowing or stopping</td>\n",
       "      <td>Nearside</td>\n",
       "      <td>2005</td>\n",
       "    </tr>\n",
       "    <tr>\n",
       "      <th>1</th>\n",
       "      <td>200501BS00003</td>\n",
       "      <td>Slight</td>\n",
       "      <td>2005-01-06</td>\n",
       "      <td>Thursday</td>\n",
       "      <td>Not at junction or within 20 metres</td>\n",
       "      <td>Darkness - lights lit</td>\n",
       "      <td>2</td>\n",
       "      <td>Dry</td>\n",
       "      <td>Single carriageway</td>\n",
       "      <td>30.0</td>\n",
       "      <td>00:15</td>\n",
       "      <td>Urban</td>\n",
       "      <td>Fine no high winds</td>\n",
       "      <td>2005</td>\n",
       "      <td>26 - 35</td>\n",
       "      <td>Not at or within 20 metres of junction</td>\n",
       "      <td>Male</td>\n",
       "      <td>Going ahead right-hand bend</td>\n",
       "      <td>Nearside</td>\n",
       "      <td>2005</td>\n",
       "    </tr>\n",
       "    <tr>\n",
       "      <th>2</th>\n",
       "      <td>200501BS00004</td>\n",
       "      <td>Slight</td>\n",
       "      <td>2005-01-07</td>\n",
       "      <td>Friday</td>\n",
       "      <td>Not at junction or within 20 metres</td>\n",
       "      <td>Daylight</td>\n",
       "      <td>1</td>\n",
       "      <td>Dry</td>\n",
       "      <td>Single carriageway</td>\n",
       "      <td>30.0</td>\n",
       "      <td>10:35</td>\n",
       "      <td>Urban</td>\n",
       "      <td>Fine no high winds</td>\n",
       "      <td>2005</td>\n",
       "      <td>46 - 55</td>\n",
       "      <td>Not at or within 20 metres of junction</td>\n",
       "      <td>Female</td>\n",
       "      <td>Going ahead other</td>\n",
       "      <td>Front</td>\n",
       "      <td>2005</td>\n",
       "    </tr>\n",
       "    <tr>\n",
       "      <th>3</th>\n",
       "      <td>200501BS00005</td>\n",
       "      <td>Slight</td>\n",
       "      <td>2005-01-10</td>\n",
       "      <td>Monday</td>\n",
       "      <td>Not at junction or within 20 metres</td>\n",
       "      <td>Darkness - lighting unknown</td>\n",
       "      <td>1</td>\n",
       "      <td>Wet or damp</td>\n",
       "      <td>Single carriageway</td>\n",
       "      <td>30.0</td>\n",
       "      <td>21:13</td>\n",
       "      <td>Urban</td>\n",
       "      <td>Fine no high winds</td>\n",
       "      <td>2005</td>\n",
       "      <td>46 - 55</td>\n",
       "      <td>Not at or within 20 metres of junction</td>\n",
       "      <td>Male</td>\n",
       "      <td>Going ahead other</td>\n",
       "      <td>Front</td>\n",
       "      <td>2005</td>\n",
       "    </tr>\n",
       "    <tr>\n",
       "      <th>4</th>\n",
       "      <td>200501BS00006</td>\n",
       "      <td>Slight</td>\n",
       "      <td>2005-01-11</td>\n",
       "      <td>Tuesday</td>\n",
       "      <td>Not at junction or within 20 metres</td>\n",
       "      <td>Daylight</td>\n",
       "      <td>2</td>\n",
       "      <td>Wet or damp</td>\n",
       "      <td>Single carriageway</td>\n",
       "      <td>30.0</td>\n",
       "      <td>12:40</td>\n",
       "      <td>Urban</td>\n",
       "      <td>Raining no high winds</td>\n",
       "      <td>2005</td>\n",
       "      <td>46 - 55</td>\n",
       "      <td>Not at or within 20 metres of junction</td>\n",
       "      <td>Male</td>\n",
       "      <td>Moving off</td>\n",
       "      <td>Did not impact</td>\n",
       "      <td>2005</td>\n",
       "    </tr>\n",
       "  </tbody>\n",
       "</table>\n",
       "</div>"
      ],
      "text/plain": [
       "  Accident_Index Accident_Severity        Date Day_of_Week  \\\n",
       "0  200501BS00002            Slight  2005-01-05   Wednesday   \n",
       "1  200501BS00003            Slight  2005-01-06    Thursday   \n",
       "2  200501BS00004            Slight  2005-01-07      Friday   \n",
       "3  200501BS00005            Slight  2005-01-10      Monday   \n",
       "4  200501BS00006            Slight  2005-01-11     Tuesday   \n",
       "\n",
       "                       Junction_Detail             Light_Conditions  \\\n",
       "0                           Crossroads        Darkness - lights lit   \n",
       "1  Not at junction or within 20 metres        Darkness - lights lit   \n",
       "2  Not at junction or within 20 metres                     Daylight   \n",
       "3  Not at junction or within 20 metres  Darkness - lighting unknown   \n",
       "4  Not at junction or within 20 metres                     Daylight   \n",
       "\n",
       "   Number_of_Vehicles Road_Surface_Conditions           Road_Type  \\\n",
       "0                   1                     Dry    Dual carriageway   \n",
       "1                   2                     Dry  Single carriageway   \n",
       "2                   1                     Dry  Single carriageway   \n",
       "3                   1             Wet or damp  Single carriageway   \n",
       "4                   2             Wet or damp  Single carriageway   \n",
       "\n",
       "   Speed_limit   Time Urban_or_Rural_Area     Weather_Conditions  Year_x  \\\n",
       "0         30.0  17:36               Urban     Fine no high winds    2005   \n",
       "1         30.0  00:15               Urban     Fine no high winds    2005   \n",
       "2         30.0  10:35               Urban     Fine no high winds    2005   \n",
       "3         30.0  21:13               Urban     Fine no high winds    2005   \n",
       "4         30.0  12:40               Urban  Raining no high winds    2005   \n",
       "\n",
       "  Age_Band_of_Driver                       Junction_Location Sex_of_Driver  \\\n",
       "0            36 - 45                      Leaving roundabout          Male   \n",
       "1            26 - 35  Not at or within 20 metres of junction          Male   \n",
       "2            46 - 55  Not at or within 20 metres of junction        Female   \n",
       "3            46 - 55  Not at or within 20 metres of junction          Male   \n",
       "4            46 - 55  Not at or within 20 metres of junction          Male   \n",
       "\n",
       "             Vehicle_Manoeuvre X1st_Point_of_Impact  Year_y  \n",
       "0          Slowing or stopping             Nearside    2005  \n",
       "1  Going ahead right-hand bend             Nearside    2005  \n",
       "2            Going ahead other                Front    2005  \n",
       "3            Going ahead other                Front    2005  \n",
       "4                   Moving off       Did not impact    2005  "
      ]
     },
     "execution_count": 301,
     "metadata": {},
     "output_type": "execute_result"
    }
   ],
   "source": [
    "road_accidents = accidents.merge(vehicles,on='Accident_Index')\n",
    "print(road_accidents.shape)\n",
    "road_accidents.head()"
   ]
  },
  {
   "cell_type": "code",
   "execution_count": 302,
   "metadata": {},
   "outputs": [
    {
     "name": "stdout",
     "output_type": "stream",
     "text": [
      "<class 'pandas.core.frame.DataFrame'>\n",
      "Int64Index: 1389724 entries, 0 to 1389723\n",
      "Data columns (total 20 columns):\n",
      " #   Column                   Non-Null Count    Dtype  \n",
      "---  ------                   --------------    -----  \n",
      " 0   Accident_Index           1389724 non-null  object \n",
      " 1   Accident_Severity        1389724 non-null  object \n",
      " 2   Date                     1389724 non-null  object \n",
      " 3   Day_of_Week              1389724 non-null  object \n",
      " 4   Junction_Detail          1389724 non-null  object \n",
      " 5   Light_Conditions         1389724 non-null  object \n",
      " 6   Number_of_Vehicles       1389724 non-null  int64  \n",
      " 7   Road_Surface_Conditions  1389724 non-null  object \n",
      " 8   Road_Type                1389724 non-null  object \n",
      " 9   Speed_limit              1389687 non-null  float64\n",
      " 10  Time                     1389623 non-null  object \n",
      " 11  Urban_or_Rural_Area      1389724 non-null  object \n",
      " 12  Weather_Conditions       1389724 non-null  object \n",
      " 13  Year_x                   1389724 non-null  int64  \n",
      " 14  Age_Band_of_Driver       1389724 non-null  object \n",
      " 15  Junction_Location        1389724 non-null  object \n",
      " 16  Sex_of_Driver            1389724 non-null  object \n",
      " 17  Vehicle_Manoeuvre        1389724 non-null  object \n",
      " 18  X1st_Point_of_Impact     1389724 non-null  object \n",
      " 19  Year_y                   1389724 non-null  int64  \n",
      "dtypes: float64(1), int64(3), object(16)\n",
      "memory usage: 222.7+ MB\n"
     ]
    }
   ],
   "source": [
    "road_accidents.info()"
   ]
  },
  {
   "cell_type": "code",
   "execution_count": 303,
   "metadata": {},
   "outputs": [
    {
     "name": "stdout",
     "output_type": "stream",
     "text": [
      "(2047256, 14)\n",
      "(1488981, 7)\n",
      "(1389724, 20)\n"
     ]
    }
   ],
   "source": [
    "print(accidents.shape)\n",
    "print(vehicles.shape)\n",
    "print(road_accidents.shape)"
   ]
  },
  {
   "cell_type": "code",
   "execution_count": 304,
   "metadata": {},
   "outputs": [],
   "source": [
    "road_accidents.drop(columns=['Year_x'], inplace=True)\n",
    "road_accidents.rename(columns={'Year_y':'Year'}, inplace=True)"
   ]
  },
  {
   "cell_type": "markdown",
   "metadata": {},
   "source": [
    "### 2.2.3 Dropping Rows: Missing Data\n",
    "*Back to <a href=\"#Table-of-Contents\">Table of Contents</a>.*"
   ]
  },
  {
   "cell_type": "markdown",
   "metadata": {},
   "source": [
    "To continue with cleaning the data, all the lines that contain \"Data missing or out of range\" or \"NaN\" shall be dropped from the dataset.\n",
    "\n",
    "Let's evaluate our columns to see the amount of data that will be lost and check if the dataframe after the cleaning still have sufficient values for a valid analysis.\n",
    "\n",
    "Obs.: if a feature doesn't have \"Data missing or out of range\" or \"NaN\" values, it will be not shown below."
   ]
  },
  {
   "cell_type": "code",
   "execution_count": 305,
   "metadata": {},
   "outputs": [
    {
     "data": {
      "text/plain": [
       "Not at junction or within 20 metres    547334\n",
       "T or staggered junction                433921\n",
       "Crossroads                             138306\n",
       "Roundabout                             125337\n",
       "Private drive or entrance               52513\n",
       "Other junction                          38091\n",
       "Slip road                               21384\n",
       "More than 4 arms (not roundabout)       17005\n",
       "Mini-roundabout                         15714\n",
       "Data missing or out of range              119\n",
       "Name: Junction_Detail, dtype: int64"
      ]
     },
     "execution_count": 305,
     "metadata": {},
     "output_type": "execute_result"
    }
   ],
   "source": [
    "road_accidents['Junction_Detail'].value_counts(dropna=False)"
   ]
  },
  {
   "cell_type": "code",
   "execution_count": 306,
   "metadata": {},
   "outputs": [],
   "source": [
    "# Let's call a variable ltbd which stands for \"lines to be dropped\".\n",
    "# This will accumulate to check the max amount of data that can be lost.\n",
    "ltbd = 119"
   ]
  },
  {
   "cell_type": "code",
   "execution_count": 307,
   "metadata": {},
   "outputs": [
    {
     "data": {
      "text/plain": [
       "Daylight                        1033243\n",
       "Darkness - lights lit            263087\n",
       "Darkness - no lighting            71434\n",
       "Darkness - lighting unknown       15414\n",
       "Darkness - lights unlit            6533\n",
       "Data missing or out of range         13\n",
       "Name: Light_Conditions, dtype: int64"
      ]
     },
     "execution_count": 307,
     "metadata": {},
     "output_type": "execute_result"
    }
   ],
   "source": [
    "road_accidents['Light_Conditions'].value_counts(dropna=False)"
   ]
  },
  {
   "cell_type": "code",
   "execution_count": 308,
   "metadata": {},
   "outputs": [],
   "source": [
    "ltbd = ltbd + 13"
   ]
  },
  {
   "cell_type": "code",
   "execution_count": 309,
   "metadata": {},
   "outputs": [
    {
     "data": {
      "text/plain": [
       "Dry                             963972\n",
       "Wet or damp                     385442\n",
       "Frost or ice                     27138\n",
       "Snow                              8873\n",
       "Data missing or out of range      2389\n",
       "Flood over 3cm. deep              1910\n",
       "Name: Road_Surface_Conditions, dtype: int64"
      ]
     },
     "execution_count": 309,
     "metadata": {},
     "output_type": "execute_result"
    }
   ],
   "source": [
    "road_accidents['Road_Surface_Conditions'].value_counts(dropna=False)"
   ]
  },
  {
   "cell_type": "code",
   "execution_count": 310,
   "metadata": {},
   "outputs": [],
   "source": [
    "ltbd = ltbd + 2389"
   ]
  },
  {
   "cell_type": "code",
   "execution_count": 311,
   "metadata": {},
   "outputs": [
    {
     "data": {
      "text/plain": [
       "Single carriageway              1026273\n",
       "Dual carriageway                 216720\n",
       "Roundabout                        96317\n",
       "One way street                    27254\n",
       "Slip road                         15411\n",
       "Unknown                            7748\n",
       "Data missing or out of range          1\n",
       "Name: Road_Type, dtype: int64"
      ]
     },
     "execution_count": 311,
     "metadata": {},
     "output_type": "execute_result"
    }
   ],
   "source": [
    "road_accidents['Road_Type'].value_counts(dropna=False)"
   ]
  },
  {
   "cell_type": "code",
   "execution_count": 312,
   "metadata": {},
   "outputs": [],
   "source": [
    "# The amount of Unknown values shall be considered in the lines to be dropped.\n",
    "# If this leads to a huge amount of data loss, maybe it's better to reconsider the feature.\n",
    "ltbd = ltbd + 1 + 7748"
   ]
  },
  {
   "cell_type": "code",
   "execution_count": 313,
   "metadata": {},
   "outputs": [
    {
     "data": {
      "text/plain": [
       "30.0    871836\n",
       "60.0    215347\n",
       "40.0    120081\n",
       "70.0    108172\n",
       "50.0     51287\n",
       "20.0     22942\n",
       "NaN         37\n",
       "10.0        12\n",
       "15.0         9\n",
       "0.0          1\n",
       "Name: Speed_limit, dtype: int64"
      ]
     },
     "execution_count": 313,
     "metadata": {},
     "output_type": "execute_result"
    }
   ],
   "source": [
    "road_accidents['Speed_limit'].value_counts(dropna=False)"
   ]
  },
  {
   "cell_type": "code",
   "execution_count": 314,
   "metadata": {},
   "outputs": [],
   "source": [
    "# The values with NaN and 0 shall be dropped.\n",
    "ltbd = ltbd + 37 + 1"
   ]
  },
  {
   "cell_type": "code",
   "execution_count": 315,
   "metadata": {},
   "outputs": [
    {
     "data": {
      "text/plain": [
       "Urban          884860\n",
       "Rural          504792\n",
       "Unallocated        72\n",
       "Name: Urban_or_Rural_Area, dtype: int64"
      ]
     },
     "execution_count": 315,
     "metadata": {},
     "output_type": "execute_result"
    }
   ],
   "source": [
    "road_accidents['Urban_or_Rural_Area'].value_counts(dropna=False)"
   ]
  },
  {
   "cell_type": "code",
   "execution_count": 316,
   "metadata": {},
   "outputs": [],
   "source": [
    "# The Unallocated values shall be dropped.\n",
    "ltbd = ltbd + 72"
   ]
  },
  {
   "cell_type": "code",
   "execution_count": 317,
   "metadata": {},
   "outputs": [
    {
     "data": {
      "text/plain": [
       "Fine no high winds              1117199\n",
       "Raining no high winds            162553\n",
       "Other                             28687\n",
       "Unknown                           25699\n",
       "Raining + high winds              19382\n",
       "Fine + high winds                 17429\n",
       "Snowing no high winds              9397\n",
       "Fog or mist                        7494\n",
       "Snowing + high winds               1756\n",
       "Data missing or out of range        128\n",
       "Name: Weather_Conditions, dtype: int64"
      ]
     },
     "execution_count": 317,
     "metadata": {},
     "output_type": "execute_result"
    }
   ],
   "source": [
    "road_accidents['Weather_Conditions'].value_counts(dropna=False)"
   ]
  },
  {
   "cell_type": "code",
   "execution_count": 318,
   "metadata": {},
   "outputs": [],
   "source": [
    "ltbd = ltbd + 128 + 25699"
   ]
  },
  {
   "cell_type": "code",
   "execution_count": 319,
   "metadata": {},
   "outputs": [
    {
     "data": {
      "text/plain": [
       "26 - 35                         289561\n",
       "36 - 45                         271912\n",
       "46 - 55                         213800\n",
       "21 - 25                         161468\n",
       "56 - 65                         129164\n",
       "16 - 20                         125082\n",
       "Data missing or out of range     95539\n",
       "66 - 75                          60247\n",
       "Over 75                          40981\n",
       "11 - 15                           1599\n",
       "6 - 10                             332\n",
       "0 - 5                               39\n",
       "Name: Age_Band_of_Driver, dtype: int64"
      ]
     },
     "execution_count": 319,
     "metadata": {},
     "output_type": "execute_result"
    }
   ],
   "source": [
    "road_accidents['Age_Band_of_Driver'].value_counts(dropna=False)"
   ]
  },
  {
   "cell_type": "code",
   "execution_count": 320,
   "metadata": {},
   "outputs": [],
   "source": [
    "ltbd = ltbd + 95539"
   ]
  },
  {
   "cell_type": "code",
   "execution_count": 321,
   "metadata": {},
   "outputs": [
    {
     "data": {
      "text/plain": [
       "Not at or within 20 metres of junction                         546117\n",
       "Approaching junction or waiting/parked at junction approach    305575\n",
       "Mid Junction - on roundabout or on main road                   269308\n",
       "Cleared junction or waiting/parked at junction exit             81871\n",
       "Entering main road                                              76227\n",
       "Entering roundabout                                             41524\n",
       "Leaving main road                                               40062\n",
       "Leaving roundabout                                              20552\n",
       "Entering from slip road                                          5496\n",
       "Data missing or out of range                                     2992\n",
       "Name: Junction_Location, dtype: int64"
      ]
     },
     "execution_count": 321,
     "metadata": {},
     "output_type": "execute_result"
    }
   ],
   "source": [
    "road_accidents['Junction_Location'].value_counts(dropna=False)"
   ]
  },
  {
   "cell_type": "code",
   "execution_count": 322,
   "metadata": {},
   "outputs": [],
   "source": [
    "ltbd = ltbd + 2992"
   ]
  },
  {
   "cell_type": "code",
   "execution_count": 323,
   "metadata": {},
   "outputs": [
    {
     "data": {
      "text/plain": [
       "Male                            948765\n",
       "Female                          401265\n",
       "Not known                        39661\n",
       "Data missing or out of range        33\n",
       "Name: Sex_of_Driver, dtype: int64"
      ]
     },
     "execution_count": 323,
     "metadata": {},
     "output_type": "execute_result"
    }
   ],
   "source": [
    "road_accidents['Sex_of_Driver'].value_counts(dropna=False)"
   ]
  },
  {
   "cell_type": "code",
   "execution_count": 324,
   "metadata": {},
   "outputs": [],
   "source": [
    "ltbd = ltbd + 33 + 39661"
   ]
  },
  {
   "cell_type": "code",
   "execution_count": 325,
   "metadata": {},
   "outputs": [
    {
     "data": {
      "text/plain": [
       "Going ahead other                      629742\n",
       "Turning right                          163196\n",
       "Slowing or stopping                    101832\n",
       "Moving off                              69381\n",
       "Waiting to go - held up                 67691\n",
       "Going ahead right-hand bend             64232\n",
       "Going ahead left-hand bend              59618\n",
       "Turning left                            53609\n",
       "Parked                                  32012\n",
       "Overtaking moving vehicle - offside     30833\n",
       "Reversing                               25569\n",
       "Overtaking static vehicle - offside     18577\n",
       "Waiting to turn right                   17487\n",
       "Changing lane to left                   13896\n",
       "Changing lane to right                  13723\n",
       "U-turn                                  13389\n",
       "Overtaking - nearside                    7320\n",
       "Waiting to turn left                     6847\n",
       "Data missing or out of range              770\n",
       "Name: Vehicle_Manoeuvre, dtype: int64"
      ]
     },
     "execution_count": 325,
     "metadata": {},
     "output_type": "execute_result"
    }
   ],
   "source": [
    "road_accidents['Vehicle_Manoeuvre'].value_counts(dropna=False)"
   ]
  },
  {
   "cell_type": "code",
   "execution_count": 326,
   "metadata": {},
   "outputs": [],
   "source": [
    "ltbd = ltbd + 770"
   ]
  },
  {
   "cell_type": "code",
   "execution_count": 327,
   "metadata": {},
   "outputs": [
    {
     "data": {
      "text/plain": [
       "Front                           733440\n",
       "Offside                         195160\n",
       "Nearside                        192801\n",
       "Back                            182133\n",
       "Did not impact                   85265\n",
       "Data missing or out of range       925\n",
       "Name: X1st_Point_of_Impact, dtype: int64"
      ]
     },
     "execution_count": 327,
     "metadata": {},
     "output_type": "execute_result"
    }
   ],
   "source": [
    "road_accidents['X1st_Point_of_Impact'].value_counts(dropna=False)"
   ]
  },
  {
   "cell_type": "code",
   "execution_count": 328,
   "metadata": {},
   "outputs": [],
   "source": [
    "ltbd = ltbd + 925"
   ]
  },
  {
   "cell_type": "code",
   "execution_count": 329,
   "metadata": {},
   "outputs": [],
   "source": [
    "lines = road_accidents.shape[0]"
   ]
  },
  {
   "cell_type": "code",
   "execution_count": 330,
   "metadata": {},
   "outputs": [
    {
     "name": "stdout",
     "output_type": "stream",
     "text": [
      "Number of lines in the dataframe:  1389724\n",
      "Max amount of lines to be dropped:  176127\n",
      "Max percentage of the data that will be lost:  12.7%\n",
      "Minimum number of lines remaining after dropping:  1213597\n"
     ]
    }
   ],
   "source": [
    "print('Number of lines in the dataframe: ', lines)\n",
    "print('Max amount of lines to be dropped: ', ltbd)\n",
    "print('Max percentage of the data that will be lost: ', \"{:.1%}\".format(ltbd/lines))\n",
    "print('Minimum number of lines remaining after dropping: ', lines - ltbd)"
   ]
  },
  {
   "cell_type": "markdown",
   "metadata": {},
   "source": [
    "The above evaluation shows that the maximum amount of data we can loose is 13% of the total by removing values that will not contribute to the analysis, still remaining more than 1 million lines to evaluate. This seems a pretty good amount of data to generate a model.\n",
    "\n",
    "Since the same row can contain that values do be dropped in more than one column, it's poossible that the remaining dataframe coontains more than 1,213,597 rows. Let's perform the cleaning and check the final result."
   ]
  },
  {
   "cell_type": "markdown",
   "metadata": {},
   "source": [
    "Let's start cleaning the rows of the unwanted values."
   ]
  },
  {
   "cell_type": "code",
   "execution_count": 331,
   "metadata": {},
   "outputs": [
    {
     "name": "stdout",
     "output_type": "stream",
     "text": [
      "The remaining number of rows in the dataframe is 1259793\n"
     ]
    }
   ],
   "source": [
    "# From the previous evaluation, we know that removing rows will start at the column \"Junction Detail\", which has index 4.\n",
    "for n in range(4, 19):\n",
    "    drop_values = ['Data missing or out of range', 0.0, 'Unknown', 'Not known', 'Unallocated', 'NaN']\n",
    "    for value in drop_values:\n",
    "        delete_row = road_accidents[road_accidents.iloc[:,n]==value].index\n",
    "        road_accidents = road_accidents.drop(delete_row)\n",
    "print('The remaining number of rows in the dataframe is', road_accidents.shape[0])"
   ]
  },
  {
   "cell_type": "markdown",
   "metadata": {},
   "source": [
    "So, we actually lost only 9.3% of the data after removing the rows with unwanted values, leaving us 1,259,793 lines with information to generate our model. Seems promising!"
   ]
  },
  {
   "cell_type": "markdown",
   "metadata": {},
   "source": [
    "## 2.3 Evaluating Data\n",
    "*Back to <a href=\"#Table-of-Contents\">Table of Contents</a>.*"
   ]
  },
  {
   "cell_type": "markdown",
   "metadata": {},
   "source": [
    "To guarantee the remaining features are worth to be considered in the model, let's check their values and confirm if they qualify as good predictors for an accident severity.\n",
    "\n",
    "Please see **2.3 Understanding the Data** section of the final report to check the evaluation and what happens below."
   ]
  },
  {
   "cell_type": "code",
   "execution_count": 344,
   "metadata": {},
   "outputs": [],
   "source": [
    "road_accidents.drop(columns=['Junction_Location'], inplace=True)"
   ]
  },
  {
   "cell_type": "code",
   "execution_count": 345,
   "metadata": {},
   "outputs": [
    {
     "name": "stdout",
     "output_type": "stream",
     "text": [
      "<class 'pandas.core.frame.DataFrame'>\n",
      "Int64Index: 1259793 entries, 0 to 1389723\n",
      "Data columns (total 18 columns):\n",
      " #   Column                   Non-Null Count    Dtype  \n",
      "---  ------                   --------------    -----  \n",
      " 0   Accident_Index           1259793 non-null  object \n",
      " 1   Accident_Severity        1259793 non-null  object \n",
      " 2   Date                     1259793 non-null  object \n",
      " 3   Day_of_Week              1259793 non-null  object \n",
      " 4   Junction_Detail          1259793 non-null  object \n",
      " 5   Light_Conditions         1259793 non-null  object \n",
      " 6   Number_of_Vehicles       1259793 non-null  int64  \n",
      " 7   Road_Surface_Conditions  1259793 non-null  object \n",
      " 8   Road_Type                1259793 non-null  object \n",
      " 9   Speed_limit              1259779 non-null  float64\n",
      " 10  Time                     1259705 non-null  object \n",
      " 11  Urban_or_Rural_Area      1259793 non-null  object \n",
      " 12  Weather_Conditions       1259793 non-null  object \n",
      " 13  Age_Band_of_Driver       1259793 non-null  object \n",
      " 14  Sex_of_Driver            1259793 non-null  object \n",
      " 15  Vehicle_Manoeuvre        1259793 non-null  object \n",
      " 16  X1st_Point_of_Impact     1259793 non-null  object \n",
      " 17  Year                     1259793 non-null  int64  \n",
      "dtypes: float64(1), int64(2), object(15)\n",
      "memory usage: 182.6+ MB\n"
     ]
    }
   ],
   "source": [
    "road_accidents.info()"
   ]
  },
  {
   "cell_type": "code",
   "execution_count": 347,
   "metadata": {},
   "outputs": [
    {
     "data": {
      "text/plain": [
       "Front             667388\n",
       "Offside           180230\n",
       "Nearside          174732\n",
       "Back              164821\n",
       "Did not impact     72622\n",
       "Name: X1st_Point_of_Impact, dtype: int64"
      ]
     },
     "execution_count": 347,
     "metadata": {},
     "output_type": "execute_result"
    }
   ],
   "source": [
    "road_accidents['X1st_Point_of_Impact'].value_counts()"
   ]
  },
  {
   "cell_type": "markdown",
   "metadata": {},
   "source": [
    "## 2.4 Pre-Processing Data\n",
    "*Back to <a href=\"#Table-of-Contents\">Table of Contents</a>.*"
   ]
  },
  {
   "cell_type": "markdown",
   "metadata": {},
   "source": [
    "First, let's set the Accident_Index as Index."
   ]
  },
  {
   "cell_type": "code",
   "execution_count": 354,
   "metadata": {},
   "outputs": [
    {
     "data": {
      "text/html": [
       "<div>\n",
       "<style scoped>\n",
       "    .dataframe tbody tr th:only-of-type {\n",
       "        vertical-align: middle;\n",
       "    }\n",
       "\n",
       "    .dataframe tbody tr th {\n",
       "        vertical-align: top;\n",
       "    }\n",
       "\n",
       "    .dataframe thead th {\n",
       "        text-align: right;\n",
       "    }\n",
       "</style>\n",
       "<table border=\"1\" class=\"dataframe\">\n",
       "  <thead>\n",
       "    <tr style=\"text-align: right;\">\n",
       "      <th></th>\n",
       "      <th>Accident_Severity</th>\n",
       "      <th>Date</th>\n",
       "      <th>Day_of_Week</th>\n",
       "      <th>Junction_Detail</th>\n",
       "      <th>Light_Conditions</th>\n",
       "      <th>Number_of_Vehicles</th>\n",
       "      <th>Road_Surface_Conditions</th>\n",
       "      <th>Road_Type</th>\n",
       "      <th>Speed_limit</th>\n",
       "      <th>Time</th>\n",
       "      <th>Urban_or_Rural_Area</th>\n",
       "      <th>Weather_Conditions</th>\n",
       "      <th>Age_Band_of_Driver</th>\n",
       "      <th>Sex_of_Driver</th>\n",
       "      <th>Vehicle_Manoeuvre</th>\n",
       "      <th>X1st_Point_of_Impact</th>\n",
       "      <th>Year</th>\n",
       "    </tr>\n",
       "    <tr>\n",
       "      <th>Accident_Index</th>\n",
       "      <th></th>\n",
       "      <th></th>\n",
       "      <th></th>\n",
       "      <th></th>\n",
       "      <th></th>\n",
       "      <th></th>\n",
       "      <th></th>\n",
       "      <th></th>\n",
       "      <th></th>\n",
       "      <th></th>\n",
       "      <th></th>\n",
       "      <th></th>\n",
       "      <th></th>\n",
       "      <th></th>\n",
       "      <th></th>\n",
       "      <th></th>\n",
       "      <th></th>\n",
       "    </tr>\n",
       "  </thead>\n",
       "  <tbody>\n",
       "    <tr>\n",
       "      <th>200501BS00002</th>\n",
       "      <td>Slight</td>\n",
       "      <td>2005-01-05</td>\n",
       "      <td>Wednesday</td>\n",
       "      <td>Crossroads</td>\n",
       "      <td>Darkness - lights lit</td>\n",
       "      <td>1</td>\n",
       "      <td>Dry</td>\n",
       "      <td>Dual carriageway</td>\n",
       "      <td>30.0</td>\n",
       "      <td>17:36</td>\n",
       "      <td>Urban</td>\n",
       "      <td>Fine no high winds</td>\n",
       "      <td>36 - 45</td>\n",
       "      <td>Male</td>\n",
       "      <td>Slowing or stopping</td>\n",
       "      <td>Nearside</td>\n",
       "      <td>2005</td>\n",
       "    </tr>\n",
       "    <tr>\n",
       "      <th>200501BS00003</th>\n",
       "      <td>Slight</td>\n",
       "      <td>2005-01-06</td>\n",
       "      <td>Thursday</td>\n",
       "      <td>Not at junction or within 20 metres</td>\n",
       "      <td>Darkness - lights lit</td>\n",
       "      <td>2</td>\n",
       "      <td>Dry</td>\n",
       "      <td>Single carriageway</td>\n",
       "      <td>30.0</td>\n",
       "      <td>00:15</td>\n",
       "      <td>Urban</td>\n",
       "      <td>Fine no high winds</td>\n",
       "      <td>26 - 35</td>\n",
       "      <td>Male</td>\n",
       "      <td>Going ahead right-hand bend</td>\n",
       "      <td>Nearside</td>\n",
       "      <td>2005</td>\n",
       "    </tr>\n",
       "    <tr>\n",
       "      <th>200501BS00004</th>\n",
       "      <td>Slight</td>\n",
       "      <td>2005-01-07</td>\n",
       "      <td>Friday</td>\n",
       "      <td>Not at junction or within 20 metres</td>\n",
       "      <td>Daylight</td>\n",
       "      <td>1</td>\n",
       "      <td>Dry</td>\n",
       "      <td>Single carriageway</td>\n",
       "      <td>30.0</td>\n",
       "      <td>10:35</td>\n",
       "      <td>Urban</td>\n",
       "      <td>Fine no high winds</td>\n",
       "      <td>46 - 55</td>\n",
       "      <td>Female</td>\n",
       "      <td>Going ahead other</td>\n",
       "      <td>Front</td>\n",
       "      <td>2005</td>\n",
       "    </tr>\n",
       "    <tr>\n",
       "      <th>200501BS00005</th>\n",
       "      <td>Slight</td>\n",
       "      <td>2005-01-10</td>\n",
       "      <td>Monday</td>\n",
       "      <td>Not at junction or within 20 metres</td>\n",
       "      <td>Darkness - lighting unknown</td>\n",
       "      <td>1</td>\n",
       "      <td>Wet or damp</td>\n",
       "      <td>Single carriageway</td>\n",
       "      <td>30.0</td>\n",
       "      <td>21:13</td>\n",
       "      <td>Urban</td>\n",
       "      <td>Fine no high winds</td>\n",
       "      <td>46 - 55</td>\n",
       "      <td>Male</td>\n",
       "      <td>Going ahead other</td>\n",
       "      <td>Front</td>\n",
       "      <td>2005</td>\n",
       "    </tr>\n",
       "    <tr>\n",
       "      <th>200501BS00006</th>\n",
       "      <td>Slight</td>\n",
       "      <td>2005-01-11</td>\n",
       "      <td>Tuesday</td>\n",
       "      <td>Not at junction or within 20 metres</td>\n",
       "      <td>Daylight</td>\n",
       "      <td>2</td>\n",
       "      <td>Wet or damp</td>\n",
       "      <td>Single carriageway</td>\n",
       "      <td>30.0</td>\n",
       "      <td>12:40</td>\n",
       "      <td>Urban</td>\n",
       "      <td>Raining no high winds</td>\n",
       "      <td>46 - 55</td>\n",
       "      <td>Male</td>\n",
       "      <td>Moving off</td>\n",
       "      <td>Did not impact</td>\n",
       "      <td>2005</td>\n",
       "    </tr>\n",
       "  </tbody>\n",
       "</table>\n",
       "</div>"
      ],
      "text/plain": [
       "               Accident_Severity       Date Day_of_Week  \\\n",
       "Accident_Index                                            \n",
       "200501BS00002             Slight 2005-01-05   Wednesday   \n",
       "200501BS00003             Slight 2005-01-06    Thursday   \n",
       "200501BS00004             Slight 2005-01-07      Friday   \n",
       "200501BS00005             Slight 2005-01-10      Monday   \n",
       "200501BS00006             Slight 2005-01-11     Tuesday   \n",
       "\n",
       "                                    Junction_Detail  \\\n",
       "Accident_Index                                        \n",
       "200501BS00002                            Crossroads   \n",
       "200501BS00003   Not at junction or within 20 metres   \n",
       "200501BS00004   Not at junction or within 20 metres   \n",
       "200501BS00005   Not at junction or within 20 metres   \n",
       "200501BS00006   Not at junction or within 20 metres   \n",
       "\n",
       "                           Light_Conditions  Number_of_Vehicles  \\\n",
       "Accident_Index                                                    \n",
       "200501BS00002         Darkness - lights lit                   1   \n",
       "200501BS00003         Darkness - lights lit                   2   \n",
       "200501BS00004                      Daylight                   1   \n",
       "200501BS00005   Darkness - lighting unknown                   1   \n",
       "200501BS00006                      Daylight                   2   \n",
       "\n",
       "               Road_Surface_Conditions           Road_Type  Speed_limit  \\\n",
       "Accident_Index                                                            \n",
       "200501BS00002                      Dry    Dual carriageway         30.0   \n",
       "200501BS00003                      Dry  Single carriageway         30.0   \n",
       "200501BS00004                      Dry  Single carriageway         30.0   \n",
       "200501BS00005              Wet or damp  Single carriageway         30.0   \n",
       "200501BS00006              Wet or damp  Single carriageway         30.0   \n",
       "\n",
       "                 Time Urban_or_Rural_Area     Weather_Conditions  \\\n",
       "Accident_Index                                                     \n",
       "200501BS00002   17:36               Urban     Fine no high winds   \n",
       "200501BS00003   00:15               Urban     Fine no high winds   \n",
       "200501BS00004   10:35               Urban     Fine no high winds   \n",
       "200501BS00005   21:13               Urban     Fine no high winds   \n",
       "200501BS00006   12:40               Urban  Raining no high winds   \n",
       "\n",
       "               Age_Band_of_Driver Sex_of_Driver            Vehicle_Manoeuvre  \\\n",
       "Accident_Index                                                                 \n",
       "200501BS00002             36 - 45          Male          Slowing or stopping   \n",
       "200501BS00003             26 - 35          Male  Going ahead right-hand bend   \n",
       "200501BS00004             46 - 55        Female            Going ahead other   \n",
       "200501BS00005             46 - 55          Male            Going ahead other   \n",
       "200501BS00006             46 - 55          Male                   Moving off   \n",
       "\n",
       "               X1st_Point_of_Impact  Year  \n",
       "Accident_Index                             \n",
       "200501BS00002              Nearside  2005  \n",
       "200501BS00003              Nearside  2005  \n",
       "200501BS00004                 Front  2005  \n",
       "200501BS00005                 Front  2005  \n",
       "200501BS00006        Did not impact  2005  "
      ]
     },
     "execution_count": 354,
     "metadata": {},
     "output_type": "execute_result"
    }
   ],
   "source": [
    "road_accidents.set_index('Accident_Index', inplace=True)\n",
    "road_accidents.head()"
   ]
  },
  {
   "cell_type": "markdown",
   "metadata": {},
   "source": [
    "Now let's convert the \"Date\" feature to datetime format."
   ]
  },
  {
   "cell_type": "code",
   "execution_count": 359,
   "metadata": {},
   "outputs": [
    {
     "data": {
      "text/plain": [
       "Accident_Severity                  object\n",
       "Date                       datetime64[ns]\n",
       "Day_of_Week                        object\n",
       "Junction_Detail                    object\n",
       "Light_Conditions                   object\n",
       "Number_of_Vehicles                  int64\n",
       "Road_Surface_Conditions            object\n",
       "Road_Type                          object\n",
       "Speed_limit                       float64\n",
       "Time                               object\n",
       "Urban_or_Rural_Area                object\n",
       "Weather_Conditions                 object\n",
       "Age_Band_of_Driver                 object\n",
       "Sex_of_Driver                      object\n",
       "Vehicle_Manoeuvre                  object\n",
       "X1st_Point_of_Impact               object\n",
       "Year                                int64\n",
       "dtype: object"
      ]
     },
     "execution_count": 359,
     "metadata": {},
     "output_type": "execute_result"
    }
   ],
   "source": [
    "road_accidents['Date'] = pd.to_datetime(road_accidents['Date'], format=\"%Y-%m-%d\")\n",
    "road_accidents.dtypes"
   ]
  },
  {
   "cell_type": "code",
   "execution_count": null,
   "metadata": {},
   "outputs": [],
   "source": []
  }
 ],
 "metadata": {
  "kernelspec": {
   "display_name": "Python 3",
   "language": "python",
   "name": "python3"
  },
  "language_info": {
   "codemirror_mode": {
    "name": "ipython",
    "version": 3
   },
   "file_extension": ".py",
   "mimetype": "text/x-python",
   "name": "python",
   "nbconvert_exporter": "python",
   "pygments_lexer": "ipython3",
   "version": "3.8.3"
  }
 },
 "nbformat": 4,
 "nbformat_minor": 4
}
